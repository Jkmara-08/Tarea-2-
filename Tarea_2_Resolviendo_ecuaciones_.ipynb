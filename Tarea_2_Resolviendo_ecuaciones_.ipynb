{
  "nbformat": 4,
  "nbformat_minor": 0,
  "metadata": {
    "colab": {
      "provenance": [],
      "authorship_tag": "ABX9TyMrbrYCPYiuFHLCTBijyv3v",
      "include_colab_link": true
    },
    "kernelspec": {
      "name": "python3",
      "display_name": "Python 3"
    },
    "language_info": {
      "name": "python"
    }
  },
  "cells": [
    {
      "cell_type": "markdown",
      "metadata": {
        "id": "view-in-github",
        "colab_type": "text"
      },
      "source": [
        "<a href=\"https://colab.research.google.com/github/Jkmara-08/Tarea-2-Calculando-Ecuaciones/blob/Tarea-2-soluci%C3%B3n/Tarea_2_Resolviendo_ecuaciones_.ipynb\" target=\"_parent\"><img src=\"https://colab.research.google.com/assets/colab-badge.svg\" alt=\"Open In Colab\"/></a>"
      ]
    },
    {
      "cell_type": "code",
      "execution_count": null,
      "metadata": {
        "id": "cpYG46ZgtM_2"
      },
      "outputs": [],
      "source": []
    },
    {
      "cell_type": "markdown",
      "source": [
        "# Ecuación de velocidad en MRU\n",
        "\n",
        "v(t) = v0 + at\n",
        "\n",
        "# Donde:\n",
        "# v(t): velocidad en el instante t (m/s)\n",
        "# v0: velocidad inicial (m/s)\n",
        "# a: aceleración constante (m/s²)\n",
        "# t: tiempo (s)"
      ],
      "metadata": {
        "id": "wD3b7IPAy0tn"
      }
    },
    {
      "cell_type": "code",
      "source": [
        "# prompt: por favor crea un código para resolver la \"ecuación de la velocidad en función del tiempo para un objeto en movimiento rectilíneo uniforme\"\n",
        "\n",
        "def velocidad_uniforme(velocidad_inicial, tiempo):\n",
        "  \"\"\"\n",
        "  Calcula la velocidad en función del tiempo para un objeto en movimiento rectilíneo uniforme.\n",
        "\n",
        "  Args:\n",
        "    velocidad_inicial: La velocidad inicial del objeto.\n",
        "    tiempo: El tiempo transcurrido.\n",
        "\n",
        "  Returns:\n",
        "    La velocidad del objeto en el tiempo dado.\n",
        "  \"\"\"\n",
        "  velocidad = velocidad_inicial\n",
        "  return velocidad\n",
        "\n",
        "# Ejemplo de uso\n",
        "velocidad_inicial = 10  # m/s\n",
        "tiempo = 5  # segundos\n",
        "\n",
        "velocidad_final = velocidad_uniforme(velocidad_inicial, tiempo)\n",
        "\n",
        "print(f\"La velocidad del objeto después de {tiempo} segundos es: {velocidad_final} m/s\")\n"
      ],
      "metadata": {
        "colab": {
          "base_uri": "https://localhost:8080/"
        },
        "id": "V27L5ETBz5Dg",
        "outputId": "06bfa296-6625-4ebf-fe09-9fcbe7f665af"
      },
      "execution_count": 2,
      "outputs": [
        {
          "output_type": "stream",
          "name": "stdout",
          "text": [
            "La velocidad del objeto después de 5 segundos es: 10 m/s\n"
          ]
        }
      ]
    },
    {
      "cell_type": "markdown",
      "source": [
        "# Ley de Beer-Lambert para la absorbancia\n",
        "\n",
        "A = log(Iθ/I) = εcl\n",
        "\n",
        "# Donde:\n",
        "# A: absorbancia\n",
        "# Iθ: intensidad de la luz incidente\n",
        "# I: intensidad de la luz transmitida\n",
        "# ε: coeficiente de extinción molar\n",
        "# c: concentración de la sustancia\n",
        "# l: longitud del camino de la celda"
      ],
      "metadata": {
        "id": "wrBKENlqy35V"
      }
    },
    {
      "cell_type": "code",
      "source": [
        "# prompt: por favor crea un codigo para resolver la \"Ley de Beer-Lambert para la absorbancia\"\n",
        "\n",
        "import math\n",
        "\n",
        "def ley_beer_lambert(absorbancia, coeficiente_extincion_molar, longitud_camino_celda):\n",
        "  \"\"\"\n",
        "  Calcula la concentración de una sustancia utilizando la ley de Beer-Lambert.\n",
        "\n",
        "  Args:\n",
        "    absorbancia: La absorbancia medida.\n",
        "    coeficiente_extincion_molar: El coeficiente de extinción molar de la sustancia.\n",
        "    longitud_camino_celda: La longitud del camino de la celda.\n",
        "\n",
        "  Returns:\n",
        "    La concentración de la sustancia.\n",
        "  \"\"\"\n",
        "  concentracion = absorbancia / (coeficiente_extincion_molar * longitud_camino_celda)\n",
        "  return concentracion\n",
        "\n",
        "# Ejemplo de uso\n",
        "absorbancia = 0.5\n",
        "coeficiente_extincion_molar = 1000  # L/mol·cm\n",
        "longitud_camino_celda = 1  # cm\n",
        "\n",
        "concentracion = ley_beer_lambert(absorbancia, coeficiente_extincion_molar, longitud_camino_celda)\n",
        "\n",
        "print(f\"La concentración de la sustancia es: {concentracion} mol/L\")\n"
      ],
      "metadata": {
        "colab": {
          "base_uri": "https://localhost:8080/"
        },
        "id": "of210kAG5zx9",
        "outputId": "844f0007-e3b1-4941-f00b-40a483287378"
      },
      "execution_count": 3,
      "outputs": [
        {
          "output_type": "stream",
          "name": "stdout",
          "text": [
            "La concentración de la sustancia es: 0.0005 mol/L\n"
          ]
        }
      ]
    },
    {
      "cell_type": "markdown",
      "source": [
        "# Ecuación de regresión lineal\n",
        "\n",
        "y = mx + b\n",
        "\n",
        "# Donde:\n",
        "# y: variable dependiente\n",
        "# x: variable independiente\n",
        "# m: pendiente de la recta\n",
        "# b: ordenada al origen"
      ],
      "metadata": {
        "id": "kaNhfyAuy_b9"
      }
    },
    {
      "cell_type": "code",
      "source": [
        "# prompt: por favor crea un codigo para resolver la \"Ecuación de regresión lineal\"\n",
        "\n",
        "import math\n",
        "\n",
        "def regresion_lineal(x, y):\n",
        "  \"\"\"\n",
        "  Calcula la ecuación de regresión lineal para un conjunto de datos.\n",
        "\n",
        "  Args:\n",
        "    x: Lista de valores de la variable independiente.\n",
        "    y: Lista de valores de la variable dependiente.\n",
        "\n",
        "  Returns:\n",
        "    Una tupla con la pendiente (m) y la ordenada al origen (b) de la recta.\n",
        "  \"\"\"\n",
        "  n = len(x)\n",
        "  sum_x = sum(x)\n",
        "  sum_y = sum(y)\n",
        "  sum_xy = sum([xi * yi for xi, yi in zip(x, y)])\n",
        "  sum_x_squared = sum([xi ** 2 for xi in x])\n",
        "\n",
        "  m = (n * sum_xy - sum_x * sum_y) / (n * sum_x_squared - sum_x ** 2)\n",
        "  b = (sum_y * sum_x_squared - sum_x * sum_xy) / (n * sum_x_squared - sum_x ** 2)\n",
        "\n",
        "  return m, b\n",
        "\n",
        "# Ejemplo de uso\n",
        "x = [1, 2, 3, 4, 5]\n",
        "y = [2, 4, 5, 4, 5]\n",
        "\n",
        "m, b = regresion_lineal(x, y)\n",
        "\n",
        "print(f\"La pendiente (m) de la recta es: {m}\")\n",
        "print(f\"La ordenada al origen (b) de la recta es: {b}\")\n",
        "print(f\"La ecuación de regresión lineal es: y = {m}x + {b}\")\n"
      ],
      "metadata": {
        "colab": {
          "base_uri": "https://localhost:8080/"
        },
        "id": "5hNtF2oo6LUl",
        "outputId": "27d90403-a238-4709-9922-1264273a1493"
      },
      "execution_count": 4,
      "outputs": [
        {
          "output_type": "stream",
          "name": "stdout",
          "text": [
            "La pendiente (m) de la recta es: 0.6\n",
            "La ordenada al origen (b) de la recta es: 2.2\n",
            "La ecuación de regresión lineal es: y = 0.6x + 2.2\n"
          ]
        }
      ]
    }
  ]
}